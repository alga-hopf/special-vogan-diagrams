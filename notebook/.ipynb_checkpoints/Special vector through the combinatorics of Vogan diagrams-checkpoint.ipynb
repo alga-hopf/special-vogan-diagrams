{
 "cells": [
  {
   "cell_type": "markdown",
   "metadata": {},
   "source": [
    "# Coefficients of special vectors through the combinatorics of Vogan diagrams\n",
    "\n",
    "In this notebook we compute the coefficients of special vectors by using only the information on the Vogan diagram of a simple non-compact real Lie algebra. We discuss separately the cases $A_n, B_n, C_n, D_n$. This is based on arXiv:..."
   ]
  },
  {
   "cell_type": "code",
   "execution_count": 1,
   "metadata": {},
   "outputs": [],
   "source": [
    "%display latex\n",
    "import numpy as np\n",
    "import time\n",
    "from sage.graphs.graph_plot import GraphPlot"
   ]
  },
  {
   "cell_type": "markdown",
   "metadata": {},
   "source": [
    "Cores to be used in the computations"
   ]
  },
  {
   "cell_type": "code",
   "execution_count": 2,
   "metadata": {},
   "outputs": [],
   "source": [
    "cores=1"
   ]
  },
  {
   "cell_type": "markdown",
   "metadata": {},
   "source": [
    "Functions that compute the coefficients and check speciality of a given diagram"
   ]
  },
  {
   "cell_type": "code",
   "execution_count": 3,
   "metadata": {},
   "outputs": [],
   "source": [
    "# delta function\n",
    "def delta(x,y):\n",
    "    try:\n",
    "        x\n",
    "        y\n",
    "    except IndexError:\n",
    "        return 0\n",
    "    if type(y)!=list:\n",
    "        y=[y]\n",
    "    if x in y:\n",
    "        return 1\n",
    "    else:\n",
    "        return 0\n",
    "\n",
    "# An\n",
    "def tau_an(x,s,n):\n",
    "    s_ext=[0]+s+[n+1]\n",
    "    j=np.argwhere(np.array(s)==x)[0][0]+1\n",
    "    s1=sum(s_ext[j+2*k]-s_ext[j+2*k-1] for k in range(1,ceil((len(s)-j)/2)+1))\n",
    "    s2=sum(s_ext[j-2*k+1]-s_ext[j-2*k] for k in range(1,floor(j/2)+1))\n",
    "    t1=sum(s_ext[j+2*k+1]-s_ext[j+2*k] for k in range(1,ceil((len(s)-(j+1))/2)+1))\n",
    "    t2=sum(s_ext[j-2*k]-s_ext[j-2*k-1] for k in range(1,floor((j+1)/2)))\n",
    "    return s1+s2-(t1+t2)\n",
    "\n",
    "@parallel(cores)\n",
    "def xi_coeff_an(x,s,rank):\n",
    "    s_ext=[0]+s+[rank+1]\n",
    "    j=np.argwhere(np.array(s)==x)[0][0]+1\n",
    "    return s_ext[j-1]-s_ext[j+1]+2*(tau_an(x,s,rank))\n",
    "\n",
    "# Bn\n",
    "def tau_bn(x,s,n):\n",
    "    s_ext=[0]+s+[n+1]\n",
    "    j=np.argwhere(np.array(s)==x)[0][0]+1\n",
    "    if x!=rank and s[-1]!=x:\n",
    "        s1_an=sum(s_ext[j+2*k]-s_ext[j+2*k-1] for k in range(1,ceil((len(s)-j)/2)+1))\n",
    "        s2_an=sum(s_ext[j-2*k+1]-s_ext[j-2*k] for k in range(1,floor(j/2)+1))\n",
    "        t2_an=sum(s_ext[j+2*k+1]-s_ext[j+2*k] for k in range(1,ceil((len(s)-(j+1))/2)+1))\n",
    "        t1_an=sum(s_ext[j-2*k]-s_ext[j-2*k-1] for k in range(1,floor((j+1)/2)))\n",
    "        s1=2*s1_an+t1_an+(s_ext[j]-s_ext[j-1]-1)-delta(s_ext[-1],s_ext[j+2*ceil((len(s)-j)/2)])\n",
    "        s2=s2_an\n",
    "        t1=t1_an\n",
    "        t2=2*t2_an+(s_ext[j+1]-s_ext[j]-1)+s2_an-delta(s_ext[-1],s_ext[j+2*ceil((len(s)-(j+1))/2)+1])\n",
    "        return s1+s2-(t1+t2)\n",
    "    elif x!=rank and s[-1]==x:\n",
    "        s1_an=sum(s_ext[j+2*k]-s_ext[j+2*k-1] for k in range(1,ceil((len(s)-j)/2)+1))\n",
    "        s2_an=sum(s_ext[j-2*k+1]-s_ext[j-2*k] for k in range(1,floor(j/2)+1))\n",
    "        t2_an=sum(s_ext[j+2*k+1]-s_ext[j+2*k] for k in range(1,ceil((len(s)-(j+1))/2)+1))\n",
    "        t1_an=sum(s_ext[j-2*k]-s_ext[j-2*k-1] for k in range(1,floor((j+1)/2)))\n",
    "        s1=2*s1_an+t1_an+(s_ext[j]-s_ext[j-1]-1)\n",
    "        s2=s2_an\n",
    "        t1=t1_an\n",
    "        t2=t2_an+s2_an\n",
    "        return s1+s2-(t1+t2)\n",
    "    else:\n",
    "        s1_an=sum(s_ext[j+2*k]-s_ext[j+2*k-1] for k in range(1,ceil((len(s)-j)/2)+1))\n",
    "        t2_an=sum(s_ext[j-2*k]-s_ext[j-2*k-1] for k in range(1,floor((j+1)/2)))\n",
    "        s1=s1_an+sum(s_ext[j-2*k]-s_ext[j-2*k-1] for k in range(floor((j+1)/2)))-1-delta(s_ext[-1],s_ext[j+2*ceil((len(s)-j)/2)])\n",
    "        t2=t2_an\n",
    "        return 2*(s1-t2)\n",
    "    \n",
    "@parallel(cores)    \n",
    "def xi_coeff_bn(x,s,rank):\n",
    "    s_ext=[0]+s+[rank+1]\n",
    "    j=np.argwhere(np.array(s)==x)[0][0]+1\n",
    "    if x==s[-1] and x!=rank:\n",
    "        return -2*rank+s_ext[j]+s_ext[j-1]+2*(tau_bn(x,s,rank))\n",
    "    elif x!=s[-1] and x!=rank:\n",
    "        return s_ext[j-1]-s_ext[j+1]+2*(tau_bn(x,s,rank))\n",
    "    else:\n",
    "        return -2*rank+2*s_ext[j-1]+2*(tau_bn(x,s,rank))\n",
    "    \n",
    "# Cn\n",
    "def tau_cn(x,s,rank):\n",
    "    s_ext=[0]+s+[rank+1]\n",
    "    j=np.argwhere(np.array(s)==x)[0][0]+1\n",
    "    if x!=rank-1:\n",
    "        if x!=s[-1]:\n",
    "            if x!=rank and rank not in s_ext:\n",
    "                s1_an=sum(s_ext[j+2*k]-s_ext[j+2*k-1] for k in range(1,ceil((len(s)-j)/2)+1))\n",
    "                s2_an=sum(s_ext[j-2*k+1]-s_ext[j-2*k] for k in range(1,floor(j/2)+1))\n",
    "                t2_an=sum(s_ext[j+2*k+1]-s_ext[j+2*k] for k in range(1,ceil((len(s)-(j+1))/2)+1))\n",
    "                t1_an=sum(s_ext[j-2*k]-s_ext[j-2*k-1] for k in range(1,floor((j+1)/2)))\n",
    "\n",
    "                s1_bn=2*s1_an+t1_an+(s_ext[j]-s_ext[j-1]-1)-delta(s_ext[-1],s_ext[j+2*ceil((len(s)-j)/2)])\n",
    "                s2_bn=s2_an\n",
    "                t1_bn=t1_an\n",
    "                t2_bn=2*t2_an+(s_ext[j+1]-s_ext[j]-1)+s2_an-delta(s_ext[-1],s_ext[j+2*ceil((len(s)-(j+1))/2)+1])\n",
    "\n",
    "                s1=s1_bn+2-delta(s_ext[-1],s_ext[j+2*ceil((len(s)-j)/2)])\n",
    "                s2=s2_bn\n",
    "                t1=t1_bn\n",
    "                t2=t2_bn+2-delta(s_ext[-1],s_ext[j+2*ceil((len(s)-(j+1))/2)+1])\n",
    "                return s1+s2-(t1+t2)\n",
    "            \n",
    "            elif x!=rank and rank in s_ext:\n",
    "                s1_an=sum(s_ext[j+2*k]-s_ext[j+2*k-1] for k in range(1,ceil((len(s)-j)/2)+1))\n",
    "                s2_an=sum(s_ext[j-2*k+1]-s_ext[j-2*k] for k in range(1,floor(j/2)+1))\n",
    "                t2_an=sum(s_ext[j+2*k+1]-s_ext[j+2*k] for k in range(1,ceil((len(s)-(j+1))/2)+1))\n",
    "                t1_an=sum(s_ext[j-2*k]-s_ext[j-2*k-1] for k in range(1,floor((j+1)/2)))\n",
    "                s1=s1_an+t2_an+(s_ext[j+1]-s_ext[j])+s2_an-delta(s_ext[-2],s_ext[j+2*ceil((len(s)-(j+1))/2)+1])\n",
    "                s2=s2_an\n",
    "                t1=t1_an\n",
    "                t2=t2_an+s1_an+(s_ext[j]-s_ext[j-1])+t1_an-delta(s_ext[-2],s_ext[j+2*ceil((len(s)-(j+1))/2)+1])\n",
    "                return s1+s2-(t1+t2)\n",
    "        else:\n",
    "            if x==rank:\n",
    "                s2_an=sum(s_ext[j-2*k+1]-s_ext[j-2*k] for k in range(1,floor(j/2)+1))\n",
    "                t1_an=sum(s_ext[j-2*k]-s_ext[j-2*k-1] for k in range(1,floor((j+1)/2)))\n",
    "                delta_n=s2_an \n",
    "                delta_nm=s2_an+t1_an \n",
    "                return -delta_nm+2*delta_n\n",
    "            else:\n",
    "                s1_an=sum(s_ext[j+2*k]-s_ext[j+2*k-1] for k in range(1,ceil((len(s)-j)/2)+1))\n",
    "                s2_an=sum(s_ext[j-2*k+1]-s_ext[j-2*k] for k in range(1,floor(j/2)+1))\n",
    "                t2_an=sum(s_ext[j+2*k+1]-s_ext[j+2*k] for k in range(1,ceil((len(s)-(j+1))/2)+1))\n",
    "                t1_an=sum(s_ext[j-2*k]-s_ext[j-2*k-1] for k in range(1,floor((j+1)/2)))\n",
    "\n",
    "                s1_bn=2*s1_an+t1_an+(s_ext[j]-s_ext[j-1]-1)\n",
    "                s2_bn=s2_an\n",
    "                t1_bn=t1_an\n",
    "                t2_bn=t2_an+s2_an\n",
    "\n",
    "                s1=s1_bn+2-delta(s_ext[-1],s_ext[j+2*ceil((len(s)-j)/2)])\n",
    "                s2=s2_bn\n",
    "                t1=t1_bn\n",
    "                t2=t2_bn\n",
    "\n",
    "                return s1+s2-(t1+t2)\n",
    "\n",
    "    else:\n",
    "        if s[-1]==x: \n",
    "            t1_an=sum(s_ext[j-2*k]-s_ext[j-2*k-1] for k in range(1,floor((j+1)/2)))\n",
    "            s1=2+t1_an+(s_ext[j]-s_ext[j-1]-1)\n",
    "            t1=t1_an\n",
    "            return s1-t1\n",
    "\n",
    "        elif s[-1]==rank: \n",
    "            s1_an=sum(s_ext[j+2*k]-s_ext[j+2*k-1] for k in range(1,ceil((len(s)-j)/2)+1))\n",
    "            s2_an=sum(s_ext[j-2*k+1]-s_ext[j-2*k] for k in range(1,floor(j/2)+1))\n",
    "            t2_an=sum(s_ext[j+2*k+1]-s_ext[j+2*k] for k in range(1,ceil((len(s)-(j+1))/2)+1))\n",
    "            t1_an=sum(s_ext[j-2*k]-s_ext[j-2*k-1] for k in range(1,floor((j+1)/2)))\n",
    "            rem=s2_an-t1_an-(s_ext[j]-s_ext[j-1]-1)\n",
    "            s1=s2_an+1\n",
    "            t1=t1_an\n",
    "            return rem+s1-t1\n",
    "\n",
    "@parallel(cores)    \n",
    "def xi_coeff_cn(x,s,rank):\n",
    "    s_ext=[0]+s+[rank+1]\n",
    "    j=np.argwhere(np.array(s)==x)[0][0]+1\n",
    "    if x!=rank-1:\n",
    "        if x!=s[-1] or x==rank:\n",
    "            return s_ext[j-1]-s_ext[j+1]+2*(tau_cn(x,s,rank))\n",
    "        else:\n",
    "            return -2-(s_ext[j]-s_ext[j-1]-1)-2*(rank-s_ext[j])+2*(tau_cn(x,s,rank))\n",
    "    else:\n",
    "        return -3-s_ext[j]+s_ext[j-1]+2*(tau_cn(x,s,rank))\n",
    "    \n",
    "# Dn\n",
    "def tau_dn(x,s,rank):\n",
    "    s_ext=[0]+s+[rank+1]\n",
    "    j=np.argwhere(np.array(s)==x)[0][0]+1\n",
    "    if x not in range(rank-2,rank+1):\n",
    "        if x!=s[-1] and len(set(s).intersection(set([rank-1,rank])))==0:\n",
    "            if s_ext[-2]==rank:\n",
    "                s_ext[-2]=rank-1\n",
    "            s1_an=sum(s_ext[j+2*k]-s_ext[j+2*k-1] for k in range(1,ceil((len(s)-j)/2)+1))\n",
    "            s2_an=sum(s_ext[j-2*k+1]-s_ext[j-2*k] for k in range(1,floor(j/2)+1))\n",
    "            t2_an=sum(s_ext[j+2*k+1]-s_ext[j+2*k] for k in range(1,ceil((len(s)-(j+1))/2)+1))\n",
    "            t1_an=sum(s_ext[j-2*k]-s_ext[j-2*k-1] for k in range(1,floor((j+1)/2)))\n",
    "            \n",
    "            s1=s1_an+delta(s_ext[-1],s_ext[j+2*ceil((len(s)-j)/2)])+t1_an+s1_an-3*delta(s_ext[-1],s_ext[j+2*ceil((len(s)-j)/2)])+(s_ext[j]-s_ext[j-1]-1)\n",
    "            s2=s2_an\n",
    "            t1=t1_an\n",
    "            t2=t2_an+delta(s_ext[-1],s_ext[j+2*ceil((len(s)-(j+1))/2)+1])+s2_an+t2_an-3*delta(s_ext[-1],s_ext[j+2*ceil((len(s)-(j+1))/2)+1])+(s_ext[j+1]-s_ext[j]-1)\n",
    "            \n",
    "            return s1+s2-(t1+t2)\n",
    "        \n",
    "        elif x!=s[-1] and len(set(s).intersection(set([rank-1,rank])))==1:\n",
    "            if s_ext[-2]==rank:\n",
    "                s_ext[-2]=rank-1\n",
    "            s1_an=sum(s_ext[j+2*k]-s_ext[j+2*k-1] for k in range(1,ceil((len(s)-j)/2)+1))\n",
    "            s2_an=sum(s_ext[j-2*k+1]-s_ext[j-2*k] for k in range(1,floor(j/2)+1))\n",
    "            t2_an=sum(s_ext[j+2*k+1]-s_ext[j+2*k] for k in range(1,ceil((len(s)-(j+1))/2)+1))\n",
    "            t1_an=sum(s_ext[j-2*k]-s_ext[j-2*k-1] for k in range(1,floor((j+1)/2)))\n",
    "            \n",
    "            s1=s1_an+s2_an+t2_an+(s_ext[j+1]-s_ext[j])\n",
    "            s2=s2_an\n",
    "            t1=t1_an\n",
    "            t2=t2_an+t1_an+s1_an+(s_ext[j]-s_ext[j-1])-delta(s_ext[-3],x)\n",
    "            return s1+s2-(t1+t2)\n",
    "        \n",
    "        elif x!=s[-1] and len(set(s).intersection(set([rank-1,rank])))==2: \n",
    "            s1_an=sum(s_ext[j+2*k]-s_ext[j+2*k-1] for k in range(1,ceil((len(s)-j)/2)+1))\n",
    "            s2_an=sum(s_ext[j-2*k+1]-s_ext[j-2*k] for k in range(1,floor(j/2)+1))\n",
    "            t2_an=sum(s_ext[j+2*k+1]-s_ext[j+2*k] for k in range(1,ceil((len(s)-(j+1))/2)+1))\n",
    "            t1_an=sum(s_ext[j-2*k]-s_ext[j-2*k-1] for k in range(1,floor((j+1)/2)))\n",
    "            s1=t1_an+(s_ext[j]-s_ext[j-1]-1)+s1_an+s1_an-3+2*delta(rank,s_ext[j+2*ceil((len(s)-j)/2)])\n",
    "            s2=s2_an\n",
    "            t1=t1_an\n",
    "            t2=s2_an+t2_an+(s_ext[j+1]-s_ext[j]-1)+2*delta(rank,s_ext[j+2*ceil((len(s)-j-1)/2)+1])-3+t2_an\n",
    "            return s1+s2-(t1+t2)\n",
    "        \n",
    "        elif x==s[-1]:\n",
    "            s1_an=sum(s_ext[j+2*k]-s_ext[j+2*k-1] for k in range(1,ceil((len(s)-j)/2)+1))\n",
    "            s2_an=sum(s_ext[j-2*k+1]-s_ext[j-2*k] for k in range(1,floor(j/2)+1))\n",
    "            t2_an=sum(s_ext[j+2*k+1]-s_ext[j+2*k] for k in range(1,ceil((len(s)-(j+1))/2)+1))\n",
    "            t1_an=sum(s_ext[j-2*k]-s_ext[j-2*k-1] for k in range(1,floor((j+1)/2)))\n",
    "            \n",
    "            s1=t1_an+(s_ext[j]-s_ext[j-1]-1)\n",
    "            s2=s2_an\n",
    "            t1=t1_an\n",
    "            t2=s2_an\n",
    "            \n",
    "            return s1+s2-(t1+t2)\n",
    "    else:\n",
    "        if x==rank-2:\n",
    "            if len(set([rank-1,rank]).intersection(set(s)))==0: \n",
    "                return s_ext[j]-s_ext[j-1]-1\n",
    "            elif len(set([rank-1,rank]).intersection(set(s)))==1: \n",
    "                s2_an=sum(s_ext[j-2*k+1]-s_ext[j-2*k] for k in range(1,floor(j/2)+1))\n",
    "                t1_an=sum(s_ext[j-2*k]-s_ext[j-2*k-1] for k in range(1,floor((j+1)/2)))\n",
    "                return 1+2*s2_an-2*t1_an-(s_ext[j]-s_ext[j-1]-1)   \n",
    "            else:\n",
    "                s2_an=sum(s_ext[j-2*k+1]-s_ext[j-2*k] for k in range(1,floor(j/2)+1))\n",
    "                return s_ext[j]-s_ext[j-1]+1\n",
    "        else:          \n",
    "            if len(set([rank-1,rank]).intersection(set(s)))==1:\n",
    "                s_ext[j]=rank-1\n",
    "                s2_an=sum(s_ext[j-2*k+1]-s_ext[j-2*k] for k in range(1,floor(j/2)+1))\n",
    "                t1_an=sum(s_ext[j-2*k]-s_ext[j-2*k-1] for k in range(1,floor((j+1)/2)))\n",
    "                return 2*(s2_an-t1_an)\n",
    "            else:\n",
    "                if s_ext[j]==rank:\n",
    "                    j=j-1\n",
    "                s2_an=sum(s_ext[j-2*k+1]-s_ext[j-2*k] for k in range(1,floor(j/2)+1))\n",
    "                t1_an=sum(s_ext[j-2*k]-s_ext[j-2*k-1] for k in range(1,floor((j+1)/2)))\n",
    "                return (rank-2-s_ext[j-1])\n",
    "            \n",
    "@parallel(cores)        \n",
    "def xi_coeff_dn(x,s,rank):\n",
    "    s_ext=[0]+s+[rank+1]\n",
    "    j=np.argwhere(np.array(s)==x)[0][0]+1\n",
    "    if x not in range(rank-2,rank+1):\n",
    "        if x!=s[-1]:\n",
    "            if s_ext[-2]==rank-1:\n",
    "                s_ext[-2]=rank\n",
    "            return s_ext[j-1]-s_ext[j+1]+2*(tau_dn(x,s,rank))\n",
    "        elif x==s[-1]:\n",
    "            return -2*rank+s_ext[j]+s_ext[j-1]+1+2*(tau_dn(x,s,rank))\n",
    "    elif x==rank-1 or x==rank:\n",
    "        if rank-1 in s and s_ext[j]==rank:\n",
    "            j=j-1\n",
    "        return -2-(2-delta(rank,s)*delta(rank-1,s))*(rank-2-s_ext[j-1])+2*(tau_dn(x,s,rank))\n",
    "    else:\n",
    "        return -rank+s_ext[j-1]+1-(1-delta(rank-1,s))-(1-delta(rank,s))+2*(tau_dn(x,s,rank))\n",
    "\n",
    "def coefficients(rank,s,lieType):\n",
    "    if lieType not in ['A','B','C','D']:\n",
    "        return 'Type not implemented!'\n",
    "    coeff=[]\n",
    "    for l in s:\n",
    "        if lieType=='A':\n",
    "            coeff.append(xi_coeff_an(l,s,rank))\n",
    "        elif lieType=='B':\n",
    "            coeff.append(xi_coeff_bn(l,s,rank))\n",
    "        elif lieType=='C':\n",
    "            coeff.append(xi_coeff_cn(l,s,rank))\n",
    "        else:\n",
    "            coeff.append(xi_coeff_dn(l,s,rank))\n",
    "    return coefficients\n",
    "\n",
    "# Special diagram (classical lie algebras)\n",
    "def is_special(rank,s,lieType):\n",
    "    if lieType=='A':\n",
    "        coeff=xi_coeff_an([(l,s,rank) for l in s])\n",
    "    elif lieType=='B':\n",
    "        coeff=xi_coeff_bn([(l,s,rank) for l in s])\n",
    "    elif lieType=='C':\n",
    "        coeff=xi_coeff_cn([(l,s,rank) for l in s])\n",
    "    elif lieType=='D':\n",
    "        coeff=xi_coeff_dn([(l,s,rank) for l in s])\n",
    "    else:\n",
    "        'For exceptional diagrams use \"is_special_exceptional\"'\n",
    "    coeff=list(coeff)\n",
    "    signs=[]\n",
    "    for i in range(len(s)):\n",
    "        signs.append(sign(list(coeff)[i][-1]))\n",
    "    if len(np.unique(signs))==1:\n",
    "        if signs[0]==0:\n",
    "            return 'Symplectic Calabi-Yau'\n",
    "        elif signs[0]==1:\n",
    "            return 'Symplectic Fano'\n",
    "        else:\n",
    "            return 'Symplectic general type'\n",
    "    else:\n",
    "        return 'No'\n",
    "    \n",
    "# Special diagram (exceptional lie algebras). This is based on arXiv:1811.06958\n",
    "def is_special_exceptional(rank,s,lieType):\n",
    "    W=WeylGroup([lieType,rank],implementation='permutation')\n",
    "    positiveRoots=W.positive_roots()\t# Positive roots\n",
    "    C=CartanMatrix([lieType,rank])\t# Cartan matrix of the Lie algebra   \n",
    "    if lieType=='F':\t# Scalar product induced on the roots\n",
    "        B=(1/36)*matrix([[4,-2,0,0],[-2,4,-2,0],[0,-2,2,-1],[0,0,-1,2]])\n",
    "    else: \n",
    "        B=matrix(QQ,gap('BilinearFormMat(RootSystem(SimpleLieAlgebra(\"'+lieType+'\",'+str(rank)+',Rationals)))'))\t\n",
    "    P=[s[i]-1 for i in range(len(s))]\n",
    "    t0=time.time()\n",
    "    compactroots=[root for root in positiveRoots if sum(root[k] for k in P)%2==0]\t# Compact roots\n",
    "    noncompactroots=[root for root in positiveRoots if sum(root[k] for k in P)%2!=0]\t# Non-compact roots\n",
    "    epsilon={root: (1 if root in noncompactroots else -1) for root in positiveRoots}\t# Compactness coefficient\n",
    "    eta=-2*sum(epsilon[alpha]*alpha for alpha in positiveRoots)\t# Eta vector\n",
    "    xi0=(C)*(eta-2*sum(root for root in positiveRoots if all(root[k]==0 for k in P)))\t# xi0 vector\n",
    "    if all(xi0[k]==0 for k in range(len(xi0))):\n",
    "        return 'Symplectic Calabi-Yau'\t# If xi0 is 0, then the orbit is symplectic Calabi-Yau\n",
    "    elif [sgn(xi0[k]) for k in range(len(xi0))]==[-1 if k in P else 0 for k in range(len(xi0))]:\t# If xi0 has negative entries in correspondence of posnoncomproot, then the orbit\n",
    "        return 'Symplectic general type'\n",
    "    elif [sgn(xi0[k]) for k in range(len(xi0))]==[1 if k in P else 0 for k in range(len(xi0))]:\t# If xi0 has positive entries in correspondence of posnoncomproot, then the orbit\n",
    "        return 'Symplectic Fano'\n",
    "    else:\n",
    "        return 'No'"
   ]
  },
  {
   "cell_type": "markdown",
   "metadata": {},
   "source": [
    "Functions to compute the Lie algebra of the orbit and the stablizer"
   ]
  },
  {
   "cell_type": "code",
   "execution_count": 4,
   "metadata": {},
   "outputs": [],
   "source": [
    "def lie_algebra_orbit(lieType,S,rank):\n",
    "    P=[S[i]-1 for i in range(len(S))]\n",
    "    if lieType=='A':\n",
    "        equivclass=sum((-1)^(len(P)-s)*(P[s-1]+1) for s in range(1,len(P)+1))\n",
    "        if equivclass<=((rank+1)/2).floor():\n",
    "            eqclass=equivclass\n",
    "        else:\n",
    "            eqclass=rank+1-equivclass\n",
    "        print('Lie algebra: su('+str(eqclass)+','+str(rank+1-eqclass)+')')\n",
    "    elif lieType=='B':\n",
    "        eqclass=sum((-1)^(len(P)-s)*(P[s-1]+1) for s in range(1,len(P)+1))\n",
    "        print('Lie algebra: so('+str(2*eqclass)+','+str(2*rank-2*eqclass+1)+')')\n",
    "    elif lieType=='C':\n",
    "        if rank-1 in P:\n",
    "            print('Lie algebra: sp('+str(rank)+',R)')\n",
    "        else:\n",
    "            N=sum((-1)^(len(P)-s)*(P[s-1]+1) for s in range(1,len(P)+1))\n",
    "            if N<= rank/2:\n",
    "                eqclass=N\n",
    "            else:\n",
    "                eqclass=rank-N\n",
    "            print('Lie algebra: sp('+str(eqclass)+','+str(rank-eqclass)+')')\n",
    "    elif lieType=='D':\t\n",
    "        if (rank-2 in P and rank-1 not in P) or (rank-2 not in P and rank-1 in P) :\n",
    "            print('Lie algebra: so*('+str(2*rank)+')')\n",
    "        elif Set([rank-2,rank-1]) in P:\n",
    "            N=sum((-1)^(len(P)-s)*(P[s-1]+1) for s in range(1,len(P)-1))\n",
    "            if N<=rank/2:\n",
    "                eqclass=N-1\n",
    "            else:\n",
    "                eqclass=rank-N-1\n",
    "            print('Lie algebra: so('+str(2*eqclass)+','+str(2*rank-2*eqclass)+')')\n",
    "        else:\n",
    "            N=sum((-1)^(len(P)-s)*(P[s-1]+1) for s in range(1,len(P)+1))\n",
    "            if N<=rank/2:\n",
    "                eqclass=N\n",
    "            else:\n",
    "                eqclass=rank-N\n",
    "            print('Lie algebra: so('+str(2*eqclass)+','+str(2*rank-2*eqclass)+')')\n",
    "    elif lieType=='G':\n",
    "        print('Lie algebra: g2(2)')\n",
    "    elif lieType=='F':\n",
    "        if Set(P).intersection(Set([0,1]))!=Set([]):\n",
    "            print('Lie algebra: f4(4)')\n",
    "        else:\n",
    "            print('Lie algebra: f4(-20)')\n",
    "    elif lieType=='E' and rank==6:\n",
    "        II=[j for j in P if j<=3 and j!=1]\n",
    "        JJ=[j for j in P if j>3]\n",
    "        if 1 in P:\n",
    "            s=1\n",
    "        else:\n",
    "            s=0\n",
    "        if II!=[] or JJ!=[]:\n",
    "            if II!=[] and 0 not in II:\n",
    "                I=sum((-1)^(len(II)-a-1)*(II[a]) for a in range(len(II)))\n",
    "            elif 0 in II:\n",
    "                I=(-1)^(len(II)-1)+sum((-1)^(len(II)-a)*(II[a]) for a in range(len(II)))\n",
    "            else:\n",
    "                I=0\n",
    "            J=sum((-1)^(len(JJ)-a-1)*(JJ[a]) for a in range(len(JJ)))\n",
    "            print(I,J)\n",
    "            if P==[0] or P==[5] or P==[2,4] or P==[0,3,4] or P==[0,1] or P==[1,2] or P==[1,4] or P==[1,5] or P==[1,3,5] or (len(JJ)!=1 and J==2-I and (I+s)%2==1) or (len(JJ)!=1 and J==4-I and (I+s)%2==0) or (len(JJ)!=1 and J==1-I) or (len(JJ)==1 and ((J==4+I and (I+s)%2==1) or J==1+I)):\n",
    "                print('Lie algebra: e6(-14)')\n",
    "            else:\n",
    "                print('Lie algebra: e6(2)')\t\t\t\t\n",
    "        else: \n",
    "            print('Lie algebra: e6(2)')\n",
    "    elif lieType=='E' and rank==7:\n",
    "        II=[j for j in P if j<=3 and j!=1]\n",
    "        JJ=[j for j in P if j>3]\n",
    "        if 1 in P:\n",
    "            s=1\n",
    "        else:\n",
    "            s=0\n",
    "        if II!=[] or JJ!=[]:\n",
    "            if II!=[] and 0 not in II:\n",
    "                I=sum((-1)^(len(II)-a-1)*(II[a]) for a in range(len(II)))\n",
    "            elif 0 in II:\n",
    "                I=(-1)^(len(II)-1)+sum((-1)^(len(II)-a)*(II[a]) for a in range(len(II)))\n",
    "            else:\n",
    "                I=0\n",
    "            J=sum((-1)^(len(JJ)-a-1)*(JJ[a]) for a in range(len(JJ)))\n",
    "            if P==[0] or P==[3] or P==[5] or P==[3,5] or P==[3,4,6] or P==[1,4] or P==[1,6] or P==[1,2,4] or P==[0,1,3,4] or (len(JJ)!=1 and (((J==1-I or J==3-I) and (I+s)%2==1) or ((J==2-I or J==4-I) and (I+s)%2==0) )) or (len(JJ)==1 and (((J==1+I or J==2+I or J==3+I or J==5+I) and (I+s)%2==0) or (J==4+I and (I+s)%2==1))):\n",
    "                print('Lie algebra: e7(-5)')\n",
    "            elif P==[6] or P==[2,4] or P==[0,3,4] or P==[0,1] or P==[1,2] or P==[1,5] or P==[1,3,5] or P==[1,3,4,6] or P==[1,3,4,5,6] or (len(JJ)!=1 and ((J==1-I and (I+s)%2==0) or (J==2-I and (I+s)%2==1))) or (len(JJ)==1 and ((J==1+I or J==2+I or J==5+I) and (I+s)%2==1)):\n",
    "                print('Lie algebra: e7(-25)')\t\n",
    "            else:\n",
    "                print('Lie algebra: e7(7)')\t\t\t\n",
    "        else: \n",
    "            print('Lie algebra: e7(7)')\n",
    "    elif lieType=='E' and rank==8:\n",
    "        II=[j for j in P if j<=3 and j!=1]\n",
    "        JJ=[j for j in P if j>3]\n",
    "        if 1 in P:\n",
    "            s=1\n",
    "        else:\n",
    "            s=0\n",
    "        if II!=[] or JJ!=[]:\n",
    "            if II!=[] and 0 not in II:\n",
    "                I=sum((-1)^(len(II)-a-1)*(II[a]) for a in range(len(II)))\n",
    "            elif 0 in II:\n",
    "                I=(-1)^(len(II)-1)+sum((-1)^(len(II)-a)*(II[a]) for a in range(len(II)))\n",
    "            else:\n",
    "                I=0\n",
    "            J=sum((-1)^(len(JJ)-a-1)*(JJ[a]) for a in range(len(JJ)))\n",
    "            if P==[7] or P==[2] or P==[3] or P==[0,2] or P==[1,2] or P==[1,5] or P==[1,6] or (len(JJ)!=1 and ((J==1-I or J==5-I) and (I+s)%2==0)) or (len(JJ)!=1 and (J==3-I and (I+s)%2==1)) or (len(JJ)!=1 and (J==2-I or J==6-I)) or (len(JJ)==1 and ((J==1+I or J==5+I) and (I+s)%2==1)) or (len(JJ)==1 and ((J==3+I and (I+s)%2==0) or J==2+I or J==6+I)):\n",
    "                print('Lie algebra: e8(-24)')\n",
    "            else:\n",
    "                print('Lie algebra: e8(8)')\t\t\t\t\t\n",
    "        else: \n",
    "            print('Lie algebra: e8(8)')\n",
    "def lie_algebra_stabilizer(lieType,S,rank):\n",
    "    if len(P)<rank:\n",
    "        st=str(CartanType([lieType,rank]).subtype([i+1 for i in range(rank) if i not in P])).translate({ord('['):None,ord(\"'\"):None,ord(','):None,ord(']'):None,ord(' '):None})\n",
    "        #st=st.translate({ord('relabelledby'):None})\n",
    "        stab=''\n",
    "        for i in range(len(st)):\n",
    "            if st[i] in ['A','B','C','D','E']:\n",
    "                if st[i]=='A':\n",
    "                    stab=stab+'su('\n",
    "                    for j in range(i+1,len(st)):\n",
    "                        if st[j]=='r' or st[j]=='x' or j==len(st)-1:\n",
    "                            if j==len(st)-1:\n",
    "                                stab=stab+str(int(st[i+1:len(st)])+1)+') x '\n",
    "                                break\n",
    "                            else:\n",
    "                                stop=j\n",
    "                                stab=stab+str(int(st[i+1:stop])+1)+') x ' \n",
    "                                break\n",
    "                if st[i]=='B':\n",
    "                    stab=stab+'so('\n",
    "                    for j in range(i,len(st)):\n",
    "                        if st[j]=='r' or st[j]=='x' or j==len(st)-1:\n",
    "                            if j==len(st)-1:\n",
    "                                stab=stab+str(int(st[i+1:len(st)])*2+1)+') x '\n",
    "                                break\n",
    "                            else:\n",
    "                                stop=j\n",
    "                                stab=stab+str(int(st[i+1:stop])*2+1)+') x ' \n",
    "                                break\n",
    "                if st[i]=='C':\n",
    "                    stab=stab+'sp('\n",
    "                    for j in range(i,len(st)):\n",
    "                        if st[j]=='r' or st[j]=='x' or j==len(st)-1:\n",
    "                            if j==len(st)-1:\n",
    "                                stab=stab+str(int(st[i+1:len(st)]))+') x '\n",
    "                                break\n",
    "                            else:\n",
    "                                stop=j\n",
    "                                stab=stab+str(int(st[i+1:stop]))+') x ' \n",
    "                                break\n",
    "                if st[i]=='D':\n",
    "                    stab=stab+'so('\n",
    "                    for j in range(i,len(st)):\n",
    "                        if st[j]=='r' or st[j]=='x' or j==len(st)-1:\n",
    "                            if j==len(st)-1:\n",
    "                                stab=stab+str(int(st[i+1:len(st)])*2)+') x '\n",
    "                                break\n",
    "                            else:\n",
    "                                stop=j\n",
    "                                stab=stab+str(int(st[i+1:stop])*2)+') x ' \n",
    "                                break\n",
    "                if st[i]=='E':\n",
    "                    if st[i+1]=='6':\n",
    "                        stab=stab+'e6 x '\n",
    "                    if st[i+1]=='7':\n",
    "                        stab=stab+'e7 x '\n",
    "        print('Stabilizer: '+stab[:-2]+' x R'+str(len(P))+'\\n')\n",
    "    else:\n",
    "        print('Stabilizer: R'+str(len(P))+'\\n')\n"
   ]
  },
  {
   "cell_type": "markdown",
   "metadata": {},
   "source": [
    "# $A_n$"
   ]
  },
  {
   "cell_type": "markdown",
   "metadata": {},
   "source": [
    "Lie algebra information: Dynkin diagram, dimension"
   ]
  },
  {
   "cell_type": "code",
   "execution_count": 5,
   "metadata": {},
   "outputs": [
    {
     "name": "stdout",
     "output_type": "stream",
     "text": [
      "O---O---O---O---O---O---O---O---O---O---O---O---O---O---O\n",
      "1   2   3   4   5   6   7   8   9   10  11  12  13  14  15  \n",
      "A15\n",
      "Dimension: 255\n"
     ]
    }
   ],
   "source": [
    "[lieType,rank]=['A',15]\n",
    "print(DynkinDiagram([lieType,rank]))\n",
    "W=WeylGroup([lieType,rank],implementation='permutation')\n",
    "positiveRoots=W.positive_roots() # Positive roots\n",
    "C=CartanMatrix([lieType,rank]) # Cartan matrix of the Lie algebra   \n",
    "print(\"Dimension:\",2*len(positiveRoots)+rank)"
   ]
  },
  {
   "cell_type": "markdown",
   "metadata": {},
   "source": [
    "Indices of simple non-compact roots (from 0 to rank-1)"
   ]
  },
  {
   "cell_type": "code",
   "execution_count": 6,
   "metadata": {},
   "outputs": [
    {
     "name": "stdout",
     "output_type": "stream",
     "text": [
      "S: [1, 15]\n"
     ]
    }
   ],
   "source": [
    "P=[0,14]\n",
    "s=[P[i]+1 for i in range(len(P))]\n",
    "print('S:',s)"
   ]
  },
  {
   "cell_type": "markdown",
   "metadata": {},
   "source": [
    "Vogan diagram"
   ]
  },
  {
   "cell_type": "code",
   "execution_count": 7,
   "metadata": {},
   "outputs": [
    {
     "data": {
      "image/png": "[encoded data removed]",
      "text/plain": [
       "Graphics object consisting of 15 graphics primitives"
      ]
     },
     "execution_count": 7,
     "metadata": {},
     "output_type": "execute_result"
    }
   ],
   "source": [
    "points={}\n",
    "for i in range(rank):\n",
    "    points[i]=[i,0]\n",
    "g=graphs.PathGraph(rank)\n",
    "colors=['black' if i in P else 'white' for i in range(rank)]\n",
    "plot= g.graphplot(pos=points,vertex_colors=colors,vertex_labels=False,vertex_size=100/rank*10)\n",
    "plot.plot()"
   ]
  },
  {
   "cell_type": "markdown",
   "metadata": {},
   "source": [
    "Check if the Vogan diagram is special and, if so, the type"
   ]
  },
  {
   "cell_type": "code",
   "execution_count": 8,
   "metadata": {},
   "outputs": [
    {
     "name": "stdout",
     "output_type": "stream",
     "text": [
      "Is the diagram special? Symplectic general type\n",
      "Lie algebra: su(2,14)\n",
      "Stabilizer: su(14)  x R2\n",
      "\n"
     ]
    }
   ],
   "source": [
    "result=is_special(rank,s,lieType)\n",
    "print('Is the diagram special?',result)\n",
    "if result!='No':\n",
    "    lie_algebra_orbit(lieType,s,rank)\n",
    "    lie_algebra_stabilizer(lieType,s,rank)"
   ]
  },
  {
   "cell_type": "markdown",
   "metadata": {},
   "source": [
    "Runtime"
   ]
  },
  {
   "cell_type": "code",
   "execution_count": 9,
   "metadata": {},
   "outputs": [
    {
     "name": "stdout",
     "output_type": "stream",
     "text": [
      "CPU times: user 12.1 ms, sys: 28.4 ms, total: 40.6 ms\n",
      "Wall time: 88.3 ms\n"
     ]
    }
   ],
   "source": [
    "t=%time is_special(rank,s,lieType)"
   ]
  },
  {
   "cell_type": "markdown",
   "metadata": {},
   "source": [
    "# $B_n$"
   ]
  },
  {
   "cell_type": "markdown",
   "metadata": {},
   "source": [
    "Lie algebra information: Dynkin diagram, dimension"
   ]
  },
  {
   "cell_type": "code",
   "execution_count": 10,
   "metadata": {},
   "outputs": [
    {
     "name": "stdout",
     "output_type": "stream",
     "text": [
      "O---O---O---O---O---O---O=>=O\n",
      "1   2   3   4   5   6   7   8   \n",
      "B8\n",
      "Dimension: 136\n"
     ]
    }
   ],
   "source": [
    "[lieType,rank]=['B',8]\n",
    "print(DynkinDiagram([lieType,rank]))\n",
    "W=WeylGroup([lieType,rank],implementation='permutation')\n",
    "positiveRoots=W.positive_roots() # Positive roots\n",
    "C=CartanMatrix([lieType,rank]) # Cartan matrix of the Lie algebra   \n",
    "print(\"Dimension:\",2*len(positiveRoots)+rank)"
   ]
  },
  {
   "cell_type": "markdown",
   "metadata": {},
   "source": [
    "Indices of simple non-compact roots (from 0 to rank-1)"
   ]
  },
  {
   "cell_type": "code",
   "execution_count": 11,
   "metadata": {},
   "outputs": [
    {
     "name": "stdout",
     "output_type": "stream",
     "text": [
      "S: [1, 6]\n"
     ]
    }
   ],
   "source": [
    "P=[0,5]\n",
    "s=[P[i]+1 for i in range(len(P))]\n",
    "print('S:',s)"
   ]
  },
  {
   "cell_type": "markdown",
   "metadata": {},
   "source": [
    "Vogan diagram"
   ]
  },
  {
   "cell_type": "code",
   "execution_count": 12,
   "metadata": {},
   "outputs": [
    {
     "data": {
      "image/png": "[encoded data removed]",
      "text/plain": [
       "Graphics object consisting of 17 graphics primitives"
      ]
     },
     "execution_count": 12,
     "metadata": {},
     "output_type": "execute_result"
    }
   ],
   "source": [
    "points={}\n",
    "for i in range(rank):\n",
    "    points[i]=[i,0]\n",
    "g=Graph({},multiedges=True, sparse=True)\n",
    "g.add_edges([(i,i+1,'') for i in range(rank-1)])\n",
    "g.add_edges([(rank-2,rank-1,'>')])\n",
    "colors=['black' if i in P else 'white' for i in range(rank)]\n",
    "plot= g.graphplot(pos=points,vertex_colors=colors,vertex_labels=False,vertex_size=100/rank*10,edge_labels=True)\n",
    "plot.plot()"
   ]
  },
  {
   "cell_type": "markdown",
   "metadata": {},
   "source": [
    "Check if the Vogan diagram is special and, if so, the type"
   ]
  },
  {
   "cell_type": "code",
   "execution_count": 13,
   "metadata": {},
   "outputs": [
    {
     "name": "stdout",
     "output_type": "stream",
     "text": [
      "Is the diagram special? Symplectic general type\n",
      "Lie algebra: so(10,7)\n",
      "Stabilizer: su(5) x so(5)  x R2\n",
      "\n"
     ]
    }
   ],
   "source": [
    "result=is_special(rank,s,lieType)\n",
    "print('Is the diagram special?',result)\n",
    "if result!='No':\n",
    "    lie_algebra_orbit(lieType,s,rank)\n",
    "    lie_algebra_stabilizer(lieType,s,rank)"
   ]
  },
  {
   "cell_type": "markdown",
   "metadata": {},
   "source": [
    "Runtime"
   ]
  },
  {
   "cell_type": "code",
   "execution_count": 14,
   "metadata": {},
   "outputs": [
    {
     "name": "stdout",
     "output_type": "stream",
     "text": [
      "CPU times: user 12.9 ms, sys: 31.8 ms, total: 44.7 ms\n",
      "Wall time: 98.9 ms\n"
     ]
    }
   ],
   "source": [
    "t=%time is_special(rank,s,lieType)"
   ]
  },
  {
   "cell_type": "markdown",
   "metadata": {},
   "source": [
    "# $C_n$"
   ]
  },
  {
   "cell_type": "markdown",
   "metadata": {},
   "source": [
    "Lie algebra information: Dynkin diagram, dimension"
   ]
  },
  {
   "cell_type": "code",
   "execution_count": 15,
   "metadata": {},
   "outputs": [
    {
     "name": "stdout",
     "output_type": "stream",
     "text": [
      "O---O---O---O---O---O---O=<=O\n",
      "1   2   3   4   5   6   7   8   \n",
      "C8\n",
      "Dimension: 136\n"
     ]
    }
   ],
   "source": [
    "[lieType,rank]=['C',8]\n",
    "print(DynkinDiagram([lieType,rank]))\n",
    "W=WeylGroup([lieType,rank],implementation='permutation')\n",
    "positiveRoots=W.positive_roots() # Positive roots\n",
    "C=CartanMatrix([lieType,rank]) # Cartan matrix of the Lie algebra   \n",
    "print(\"Dimension:\",2*len(positiveRoots)+rank)"
   ]
  },
  {
   "cell_type": "markdown",
   "metadata": {},
   "source": [
    "Indices of simple non-compact roots (from 0 to rank-1)"
   ]
  },
  {
   "cell_type": "code",
   "execution_count": 16,
   "metadata": {
    "scrolled": true
   },
   "outputs": [
    {
     "name": "stdout",
     "output_type": "stream",
     "text": [
      "S: [5, 7]\n"
     ]
    }
   ],
   "source": [
    "P=[4,6]\n",
    "s=[P[i]+1 for i in range(len(P))]\n",
    "print('S:',s)"
   ]
  },
  {
   "cell_type": "markdown",
   "metadata": {},
   "source": [
    "Vogan diagram"
   ]
  },
  {
   "cell_type": "code",
   "execution_count": 17,
   "metadata": {},
   "outputs": [
    {
     "data": {
      "image/png": "[encoded data removed]",
      "text/plain": [
       "Graphics object consisting of 17 graphics primitives"
      ]
     },
     "execution_count": 17,
     "metadata": {},
     "output_type": "execute_result"
    }
   ],
   "source": [
    "points={}\n",
    "for i in range(rank):\n",
    "    points[i]=[i,0]\n",
    "g=Graph({},multiedges=True, sparse=True)\n",
    "g.add_edges([(i,i+1,'') for i in range(rank-1)])\n",
    "g.add_edges([(rank-2,rank-1,'<')])\n",
    "colors=['black' if i in P else 'white' for i in range(rank)]\n",
    "plot= g.graphplot(pos=points,vertex_colors=colors,vertex_labels=False,vertex_size=100/rank*10,edge_labels=True)\n",
    "plot.plot()"
   ]
  },
  {
   "cell_type": "markdown",
   "metadata": {},
   "source": [
    "Check if the Vogan diagram is special and, if so, the type"
   ]
  },
  {
   "cell_type": "code",
   "execution_count": 18,
   "metadata": {
    "scrolled": true
   },
   "outputs": [
    {
     "name": "stdout",
     "output_type": "stream",
     "text": [
      "Is the diagram special? Symplectic Fano\n",
      "Lie algebra: sp(2,6)\n",
      "Stabilizer: su(5) x su(2) x su(2)  x R2\n",
      "\n"
     ]
    }
   ],
   "source": [
    "result=is_special(rank,s,lieType)\n",
    "print('Is the diagram special?',result)\n",
    "if result!='No':\n",
    "    lie_algebra_orbit(lieType,s,rank)\n",
    "    lie_algebra_stabilizer(lieType,s,rank)"
   ]
  },
  {
   "cell_type": "markdown",
   "metadata": {},
   "source": [
    "Check if the Vogan diagram is special and, if so, the type"
   ]
  },
  {
   "cell_type": "code",
   "execution_count": 19,
   "metadata": {},
   "outputs": [
    {
     "name": "stdout",
     "output_type": "stream",
     "text": [
      "CPU times: user 10.8 ms, sys: 32.9 ms, total: 43.7 ms\n",
      "Wall time: 107 ms\n"
     ]
    }
   ],
   "source": [
    "t=%time is_special(rank,s,lieType)"
   ]
  },
  {
   "cell_type": "markdown",
   "metadata": {},
   "source": [
    "# $D_n$"
   ]
  },
  {
   "cell_type": "markdown",
   "metadata": {},
   "source": [
    "Lie algebra information: Dynkin diagram, dimension"
   ]
  },
  {
   "cell_type": "code",
   "execution_count": 20,
   "metadata": {},
   "outputs": [
    {
     "name": "stdout",
     "output_type": "stream",
     "text": [
      "                    O 8\n",
      "                    |\n",
      "                    |\n",
      "O---O---O---O---O---O---O\n",
      "1   2   3   4   5   6   7   \n",
      "D8\n",
      "Dimension: 120\n"
     ]
    }
   ],
   "source": [
    "[lieType,rank]=['D',8]\n",
    "print(DynkinDiagram([lieType,rank]))\n",
    "W=WeylGroup([lieType,rank],implementation='permutation')\n",
    "positiveRoots=W.positive_roots() # Positive roots\n",
    "C=CartanMatrix([lieType,rank]) # Cartan matrix of the Lie algebra   \n",
    "print(\"Dimension:\",2*len(positiveRoots)+rank)"
   ]
  },
  {
   "cell_type": "markdown",
   "metadata": {},
   "source": [
    "Indices of simple non-compact roots (from 0 to rank-1)"
   ]
  },
  {
   "cell_type": "code",
   "execution_count": 21,
   "metadata": {
    "scrolled": true
   },
   "outputs": [
    {
     "name": "stdout",
     "output_type": "stream",
     "text": [
      "S: [2, 6]\n"
     ]
    }
   ],
   "source": [
    "P=[1,5]\n",
    "s=[P[i]+1 for i in range(len(P))]\n",
    "print('S:',s)"
   ]
  },
  {
   "cell_type": "markdown",
   "metadata": {},
   "source": [
    "Vogan diagram"
   ]
  },
  {
   "cell_type": "code",
   "execution_count": 22,
   "metadata": {},
   "outputs": [
    {
     "data": {
      "image/png": "[encoded data removed]",
      "text/plain": [
       "Graphics object consisting of 8 graphics primitives"
      ]
     },
     "execution_count": 22,
     "metadata": {},
     "output_type": "execute_result"
    }
   ],
   "source": [
    "points={}\n",
    "for i in range(rank-2):\n",
    "    points[i]=[i,0]\n",
    "points[rank-2]=[rank-2,1]\n",
    "points[rank-1]=[rank-2,-1]\n",
    "g=graphs.PathGraph(rank-1)\n",
    "g.add_vertex()\n",
    "g.add_edge((rank-3,rank-1))\n",
    "colors=['black' if i in P else 'white' for i in range(rank)]\n",
    "plot= g.graphplot(pos=points,vertex_colors=colors,vertex_labels=False,vertex_size=100/rank*10)\n",
    "plot.plot()"
   ]
  },
  {
   "cell_type": "markdown",
   "metadata": {},
   "source": [
    "Check if the Vogan diagram is special and, if so, the type"
   ]
  },
  {
   "cell_type": "code",
   "execution_count": 23,
   "metadata": {},
   "outputs": [
    {
     "name": "stdout",
     "output_type": "stream",
     "text": [
      "Is the diagram special? Symplectic general type\n",
      "Lie algebra: so(8,8)\n",
      "Stabilizer: su(4) x su(2) x su(2) x su(2)  x R2\n",
      "\n"
     ]
    }
   ],
   "source": [
    "result=is_special(rank,s,lieType)\n",
    "print('Is the diagram special?',result)\n",
    "if result!='No':\n",
    "    lie_algebra_orbit(lieType,s,rank)\n",
    "    lie_algebra_stabilizer(lieType,s,rank)"
   ]
  },
  {
   "cell_type": "markdown",
   "metadata": {},
   "source": [
    "Check if the Vogan diagram is special and, if so, the type"
   ]
  },
  {
   "cell_type": "code",
   "execution_count": 24,
   "metadata": {},
   "outputs": [
    {
     "name": "stdout",
     "output_type": "stream",
     "text": [
      "CPU times: user 0 ns, sys: 44.8 ms, total: 44.8 ms\n",
      "Wall time: 102 ms\n"
     ]
    }
   ],
   "source": [
    "t=%time is_special(rank,s,lieType)"
   ]
  },
  {
   "cell_type": "markdown",
   "metadata": {},
   "source": [
    "# $G_2$"
   ]
  },
  {
   "cell_type": "markdown",
   "metadata": {},
   "source": [
    "Lie algebra information: Dynkin diagram, dimension"
   ]
  },
  {
   "cell_type": "code",
   "execution_count": 25,
   "metadata": {},
   "outputs": [
    {
     "name": "stdout",
     "output_type": "stream",
     "text": [
      "  3\n",
      "O=<=O\n",
      "1   2   \n",
      "G2\n",
      "Dimension: 14\n"
     ]
    }
   ],
   "source": [
    "[lieType,rank]=['G',2]\n",
    "print(DynkinDiagram([lieType,rank]))\n",
    "W=WeylGroup([lieType,rank],implementation='permutation')\n",
    "positiveRoots=W.positive_roots() # Positive roots\n",
    "C=CartanMatrix([lieType,rank]) # Cartan matrix of the Lie algebra   \n",
    "print(\"Dimension:\",2*len(positiveRoots)+rank)"
   ]
  },
  {
   "cell_type": "markdown",
   "metadata": {},
   "source": [
    "Indices of simple non-compact roots (from 0 to rank-1)"
   ]
  },
  {
   "cell_type": "code",
   "execution_count": 26,
   "metadata": {},
   "outputs": [
    {
     "name": "stdout",
     "output_type": "stream",
     "text": [
      "S: [1]\n"
     ]
    }
   ],
   "source": [
    "P=[0]\n",
    "s=[P[i]+1 for i in range(len(P))]\n",
    "print('S:',s)"
   ]
  },
  {
   "cell_type": "markdown",
   "metadata": {},
   "source": [
    "Vogan diagram"
   ]
  },
  {
   "cell_type": "code",
   "execution_count": 27,
   "metadata": {},
   "outputs": [
    {
     "data": {
      "image/png": "[encoded data removed]",
      "text/plain": [
       "Graphics object consisting of 7 graphics primitives"
      ]
     },
     "execution_count": 27,
     "metadata": {},
     "output_type": "execute_result"
    }
   ],
   "source": [
    "points={}\n",
    "for i in range(rank):\n",
    "    points[i]=[i,0]\n",
    "g=Graph({},multiedges=True, sparse=True)\n",
    "g.add_edges([(i,i+1,'') for i in range(rank-2)])\n",
    "g.add_edges([(rank-2,rank-1)])\n",
    "g.add_edges([(rank-2,rank-1,'<')])\n",
    "g.add_edges([(rank-2,rank-1)])\n",
    "colors=['black' if i in P else 'white' for i in range(rank)]\n",
    "plot= g.graphplot(pos=points,vertex_colors=colors,vertex_labels=False,vertex_size=100/rank*10,edge_labels=True)\n",
    "plot.plot()"
   ]
  },
  {
   "cell_type": "markdown",
   "metadata": {},
   "source": [
    "Check if the Vogan diagram is special and, if so, the type"
   ]
  },
  {
   "cell_type": "code",
   "execution_count": 28,
   "metadata": {},
   "outputs": [
    {
     "name": "stdout",
     "output_type": "stream",
     "text": [
      "Is the diagram special? Symplectic general type\n",
      "Lie algebra: g2(2)\n",
      "Stabilizer: su(2)  x R1\n",
      "\n"
     ]
    }
   ],
   "source": [
    "result=is_special_exceptional(rank,s,lieType)\n",
    "print('Is the diagram special?',result)\n",
    "if result!='No':\n",
    "    lie_algebra_orbit(lieType,s,rank)\n",
    "    lie_algebra_stabilizer(lieType,s,rank)"
   ]
  },
  {
   "cell_type": "markdown",
   "metadata": {},
   "source": [
    "# $F_4$"
   ]
  },
  {
   "cell_type": "markdown",
   "metadata": {},
   "source": [
    "Lie algebra information: Dynkin diagram, dimension"
   ]
  },
  {
   "cell_type": "code",
   "execution_count": 29,
   "metadata": {},
   "outputs": [
    {
     "name": "stdout",
     "output_type": "stream",
     "text": [
      "O---O=>=O---O\n",
      "1   2   3   4   \n",
      "F4\n",
      "Dimension: 52\n"
     ]
    }
   ],
   "source": [
    "[lieType,rank]=['F',4]\n",
    "print(DynkinDiagram([lieType,rank]))\n",
    "W=WeylGroup([lieType,rank],implementation='permutation')\n",
    "positiveRoots=W.positive_roots() # Positive roots\n",
    "C=CartanMatrix([lieType,rank]) # Cartan matrix of the Lie algebra   \n",
    "print(\"Dimension:\",2*len(positiveRoots)+rank)"
   ]
  },
  {
   "cell_type": "markdown",
   "metadata": {},
   "source": [
    "Indices of simple non-compact roots (from 0 to rank-1)"
   ]
  },
  {
   "cell_type": "code",
   "execution_count": 30,
   "metadata": {},
   "outputs": [
    {
     "name": "stdout",
     "output_type": "stream",
     "text": [
      "S: [1, 4]\n"
     ]
    }
   ],
   "source": [
    "P=[0,3]\n",
    "s=[P[i]+1 for i in range(len(P))]\n",
    "print('S:',s)"
   ]
  },
  {
   "cell_type": "markdown",
   "metadata": {},
   "source": [
    "Vogan diagram"
   ]
  },
  {
   "cell_type": "code",
   "execution_count": 31,
   "metadata": {},
   "outputs": [
    {
     "data": {
      "image/png": "[encoded data removed]",
      "text/plain": [
       "Graphics object consisting of 9 graphics primitives"
      ]
     },
     "execution_count": 31,
     "metadata": {},
     "output_type": "execute_result"
    }
   ],
   "source": [
    "points={}\n",
    "for i in range(rank):\n",
    "    points[i]=[i,0]\n",
    "g=Graph({},multiedges=True, sparse=True)\n",
    "g.add_edges([(i,i+1,'') for i in range(rank-2)])\n",
    "g.add_edges([(rank-3,rank-2,'>')])\n",
    "g.add_edges([(rank-2,rank-1,'')])\n",
    "colors=['black' if i in P else 'white' for i in range(rank)]\n",
    "plot= g.graphplot(pos=points,vertex_colors=colors,vertex_labels=False,vertex_size=100/rank*10,edge_labels=True)\n",
    "plot.plot()"
   ]
  },
  {
   "cell_type": "markdown",
   "metadata": {},
   "source": [
    "Check if the Vogan diagram is special and, if so, the type"
   ]
  },
  {
   "cell_type": "code",
   "execution_count": 32,
   "metadata": {},
   "outputs": [
    {
     "name": "stdout",
     "output_type": "stream",
     "text": [
      "Is the diagram special? Symplectic general type\n",
      "Lie algebra: f4(4)\n",
      "Stabilizer: so(5)  x R2\n",
      "\n"
     ]
    }
   ],
   "source": [
    "result=is_special_exceptional(rank,s,lieType)\n",
    "print('Is the diagram special?',result)\n",
    "if result!='No':\n",
    "    lie_algebra_orbit(lieType,s,rank)\n",
    "    lie_algebra_stabilizer(lieType,s,rank)"
   ]
  },
  {
   "cell_type": "markdown",
   "metadata": {},
   "source": [
    "# $E_6$"
   ]
  },
  {
   "cell_type": "markdown",
   "metadata": {},
   "source": [
    "Lie algebra information: Dynkin diagram, dimension"
   ]
  },
  {
   "cell_type": "code",
   "execution_count": 33,
   "metadata": {},
   "outputs": [
    {
     "name": "stdout",
     "output_type": "stream",
     "text": [
      "        O 2\n",
      "        |\n",
      "        |\n",
      "O---O---O---O---O\n",
      "1   3   4   5   6   \n",
      "E6\n",
      "Dimension: 78\n"
     ]
    }
   ],
   "source": [
    "[lieType,rank]=['E',6]\n",
    "print(DynkinDiagram([lieType,rank]))\n",
    "W=WeylGroup([lieType,rank],implementation='permutation')\n",
    "positiveRoots=W.positive_roots() # Positive roots\n",
    "C=CartanMatrix([lieType,rank]) # Cartan matrix of the Lie algebra   \n",
    "print(\"Dimension:\",2*len(positiveRoots)+rank)"
   ]
  },
  {
   "cell_type": "markdown",
   "metadata": {},
   "source": [
    "Indices of simple non-compact roots (from 0 to rank-1)"
   ]
  },
  {
   "cell_type": "code",
   "execution_count": 34,
   "metadata": {},
   "outputs": [
    {
     "name": "stdout",
     "output_type": "stream",
     "text": [
      "S: [1, 6]\n"
     ]
    }
   ],
   "source": [
    "P=[0,5]\n",
    "s=[P[i]+1 for i in range(len(P))]\n",
    "print('S:',s)"
   ]
  },
  {
   "cell_type": "markdown",
   "metadata": {},
   "source": [
    "Vogan diagram"
   ]
  },
  {
   "cell_type": "code",
   "execution_count": 35,
   "metadata": {},
   "outputs": [
    {
     "data": {
      "image/png": "[encoded data removed]",
      "text/plain": [
       "Graphics object consisting of 6 graphics primitives"
      ]
     },
     "execution_count": 35,
     "metadata": {},
     "output_type": "execute_result"
    }
   ],
   "source": [
    "g=Graph({}, sparse=True)\n",
    "points={}\n",
    "g.add_edge((0,2))\n",
    "points[0]=[0,0]\n",
    "g.add_edge((2,3))\n",
    "points[1]=[2,1]\n",
    "points[2]=[1,0]\n",
    "g.add_edge((3,4))\n",
    "points[3]=[2,0]\n",
    "g.add_edge((4,5))\n",
    "points[4]=[3,0]\n",
    "g.add_edge((3,1))\n",
    "points[5]=[4,0]\n",
    "colors=['black' if i in P else 'white' for i in range(rank)]\n",
    "plot= g.graphplot(pos=points,vertex_colors=colors,vertex_labels=False,vertex_size=100/rank*10)\n",
    "plot.plot()"
   ]
  },
  {
   "cell_type": "markdown",
   "metadata": {},
   "source": [
    "Check if the Vogan diagram is special and, if so, the type"
   ]
  },
  {
   "cell_type": "code",
   "execution_count": 36,
   "metadata": {},
   "outputs": [
    {
     "name": "stdout",
     "output_type": "stream",
     "text": [
      "Is the diagram special? Symplectic Calabi-Yau\n",
      "1 5\n",
      "Lie algebra: e6(-14)\n",
      "Stabilizer: so(8)  x R2\n",
      "\n"
     ]
    }
   ],
   "source": [
    "result=is_special_exceptional(rank,s,lieType)\n",
    "print('Is the diagram special?',result)\n",
    "if result!='No':\n",
    "    lie_algebra_orbit(lieType,s,rank)\n",
    "    lie_algebra_stabilizer(lieType,s,rank)"
   ]
  },
  {
   "cell_type": "markdown",
   "metadata": {},
   "source": [
    "# $E_7$"
   ]
  },
  {
   "cell_type": "markdown",
   "metadata": {},
   "source": [
    "Lie algebra information: Dynkin diagram, dimension"
   ]
  },
  {
   "cell_type": "code",
   "execution_count": 37,
   "metadata": {},
   "outputs": [
    {
     "name": "stdout",
     "output_type": "stream",
     "text": [
      "        O 2\n",
      "        |\n",
      "        |\n",
      "O---O---O---O---O---O\n",
      "1   3   4   5   6   7   \n",
      "E7\n",
      "Dimension: 133\n"
     ]
    }
   ],
   "source": [
    "[lieType,rank]=['E',7]\n",
    "print(DynkinDiagram([lieType,rank]))\n",
    "W=WeylGroup([lieType,rank],implementation='permutation')\n",
    "positiveRoots=W.positive_roots() # Positive roots\n",
    "C=CartanMatrix([lieType,rank]) # Cartan matrix of the Lie algebra   \n",
    "print(\"Dimension:\",2*len(positiveRoots)+rank)"
   ]
  },
  {
   "cell_type": "markdown",
   "metadata": {},
   "source": [
    "Indices of simple non-compact roots (from 0 to rank-1)"
   ]
  },
  {
   "cell_type": "code",
   "execution_count": 38,
   "metadata": {},
   "outputs": [
    {
     "name": "stdout",
     "output_type": "stream",
     "text": [
      "S: [5]\n"
     ]
    }
   ],
   "source": [
    "P=[4]\n",
    "s=[P[i]+1 for i in range(len(P))]\n",
    "print('S:',s)"
   ]
  },
  {
   "cell_type": "markdown",
   "metadata": {},
   "source": [
    "Vogan diagram"
   ]
  },
  {
   "cell_type": "code",
   "execution_count": 39,
   "metadata": {},
   "outputs": [
    {
     "data": {
      "image/png": "[encoded data removed]",
      "text/plain": [
       "Graphics object consisting of 7 graphics primitives"
      ]
     },
     "execution_count": 39,
     "metadata": {},
     "output_type": "execute_result"
    }
   ],
   "source": [
    "g=Graph({}, sparse=True)\n",
    "points={}\n",
    "g.add_edge((0,2))\n",
    "points[0]=[0,0]\n",
    "g.add_edge((2,3))\n",
    "points[1]=[2,1]\n",
    "points[2]=[1,0]\n",
    "g.add_edge((3,4))\n",
    "points[3]=[2,0]\n",
    "g.add_edge((4,5))\n",
    "points[4]=[3,0]\n",
    "g.add_edge((3,1))\n",
    "points[5]=[4,0]\n",
    "g.add_edge((5,6))\n",
    "points[6]=(5,0)\n",
    "colors=['black' if i in P else 'white' for i in range(rank)]\n",
    "plot= g.graphplot(pos=points,vertex_colors=colors,vertex_labels=False,vertex_size=100/rank*10)\n",
    "plot.plot()"
   ]
  },
  {
   "cell_type": "markdown",
   "metadata": {},
   "source": [
    "Check if the Vogan diagram is special and, if so, the type"
   ]
  },
  {
   "cell_type": "code",
   "execution_count": 40,
   "metadata": {},
   "outputs": [
    {
     "name": "stdout",
     "output_type": "stream",
     "text": [
      "Is the diagram special? Symplectic general type\n",
      "Lie algebra: e7(7)\n",
      "Stabilizer: su(5) x su(3)  x R1\n",
      "\n"
     ]
    }
   ],
   "source": [
    "result=is_special_exceptional(rank,s,lieType)\n",
    "print('Is the diagram special?',result)\n",
    "if result!='No':\n",
    "    lie_algebra_orbit(lieType,s,rank)\n",
    "    lie_algebra_stabilizer(lieType,s,rank)"
   ]
  },
  {
   "cell_type": "markdown",
   "metadata": {},
   "source": [
    "# $E_8$"
   ]
  },
  {
   "cell_type": "markdown",
   "metadata": {},
   "source": [
    "Lie algebra information: Dynkin diagram, dimension"
   ]
  },
  {
   "cell_type": "code",
   "execution_count": 41,
   "metadata": {},
   "outputs": [
    {
     "name": "stdout",
     "output_type": "stream",
     "text": [
      "        O 2\n",
      "        |\n",
      "        |\n",
      "O---O---O---O---O---O---O\n",
      "1   3   4   5   6   7   8   \n",
      "E8\n",
      "Dimension: 248\n"
     ]
    }
   ],
   "source": [
    "[lieType,rank]=['E',8]\n",
    "print(DynkinDiagram([lieType,rank]))\n",
    "W=WeylGroup([lieType,rank],implementation='permutation')\n",
    "positiveRoots=W.positive_roots() # Positive roots\n",
    "C=CartanMatrix([lieType,rank]) # Cartan matrix of the Lie algebra   \n",
    "print(\"Dimension:\",2*len(positiveRoots)+rank)"
   ]
  },
  {
   "cell_type": "markdown",
   "metadata": {},
   "source": [
    "Indices of simple non-compact roots (from 0 to rank-1)"
   ]
  },
  {
   "cell_type": "code",
   "execution_count": 42,
   "metadata": {},
   "outputs": [
    {
     "name": "stdout",
     "output_type": "stream",
     "text": [
      "S: [3, 8]\n"
     ]
    }
   ],
   "source": [
    "P=[2,7]\n",
    "s=[P[i]+1 for i in range(len(P))]\n",
    "print('S:',s)"
   ]
  },
  {
   "cell_type": "markdown",
   "metadata": {},
   "source": [
    "Vogan diagram"
   ]
  },
  {
   "cell_type": "code",
   "execution_count": 43,
   "metadata": {},
   "outputs": [
    {
     "data": {
      "image/png": "[encoded data removed]",
      "text/plain": [
       "Graphics object consisting of 8 graphics primitives"
      ]
     },
     "execution_count": 43,
     "metadata": {},
     "output_type": "execute_result"
    }
   ],
   "source": [
    "g=Graph({}, sparse=True)\n",
    "points={}\n",
    "g.add_edge((0,2))\n",
    "points[0]=[0,0]\n",
    "g.add_edge((2,3))\n",
    "points[1]=[2,1]\n",
    "points[2]=[1,0]\n",
    "g.add_edge((3,4))\n",
    "points[3]=[2,0]\n",
    "g.add_edge((4,5))\n",
    "points[4]=[3,0]\n",
    "g.add_edge((3,1))\n",
    "points[5]=[4,0]\n",
    "g.add_edge((5,6))\n",
    "points[6]=(5,0)\n",
    "g.add_edge((6,7))\n",
    "points[7]=(6,0)\n",
    "colors=['black' if i in P else 'white' for i in range(rank)]\n",
    "plot= g.graphplot(pos=points,vertex_colors=colors,vertex_labels=False,vertex_size=100/rank*10)\n",
    "plot.plot()"
   ]
  },
  {
   "cell_type": "markdown",
   "metadata": {},
   "source": [
    "Check if the Vogan diagram is special and, if so, the type"
   ]
  },
  {
   "cell_type": "code",
   "execution_count": 44,
   "metadata": {},
   "outputs": [
    {
     "name": "stdout",
     "output_type": "stream",
     "text": [
      "Is the diagram special? Symplectic general type\n",
      "Lie algebra: e8(8)\n",
      "Stabilizer: su(6) x su(2)  x R2\n",
      "\n"
     ]
    }
   ],
   "source": [
    "result=is_special_exceptional(rank,s,lieType)\n",
    "print('Is the diagram special?',result)\n",
    "if result!='No':\n",
    "    lie_algebra_orbit(lieType,s,rank)\n",
    "    lie_algebra_stabilizer(lieType,s,rank)"
   ]
  },
  {
   "cell_type": "code",
   "execution_count": null,
   "metadata": {},
   "outputs": [],
   "source": []
  }
 ],
 "metadata": {
  "kernelspec": {
   "display_name": "SageMath 9.5",
   "language": "sage",
   "name": "sagemath"
  },
  "language_info": {
   "codemirror_mode": {
    "name": "ipython",
    "version": 3
   },
   "file_extension": ".py",
   "mimetype": "text/x-python",
   "name": "python",
   "nbconvert_exporter": "python",
   "pygments_lexer": "ipython3",
   "version": "3.10.4"
  }
 },
 "nbformat": 4,
 "nbformat_minor": 4
}
